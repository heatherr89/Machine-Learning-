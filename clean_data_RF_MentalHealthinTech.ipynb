{
 "cells": [
  {
   "cell_type": "markdown",
   "metadata": {},
   "source": [
    "## Purpose "
   ]
  },
  {
   "cell_type": "code",
   "execution_count": 2,
   "metadata": {},
   "outputs": [],
   "source": [
    "#import dependencies\n",
    "import pandas as pd\n"
   ]
  },
  {
   "cell_type": "code",
   "execution_count": 3,
   "metadata": {},
   "outputs": [
    {
     "data": {
      "text/html": [
       "<div>\n",
       "<style scoped>\n",
       "    .dataframe tbody tr th:only-of-type {\n",
       "        vertical-align: middle;\n",
       "    }\n",
       "\n",
       "    .dataframe tbody tr th {\n",
       "        vertical-align: top;\n",
       "    }\n",
       "\n",
       "    .dataframe thead th {\n",
       "        text-align: right;\n",
       "    }\n",
       "</style>\n",
       "<table border=\"1\" class=\"dataframe\">\n",
       "  <thead>\n",
       "    <tr style=\"text-align: right;\">\n",
       "      <th></th>\n",
       "      <th>Timestamp</th>\n",
       "      <th>Age</th>\n",
       "      <th>Gender</th>\n",
       "      <th>Country</th>\n",
       "      <th>state</th>\n",
       "      <th>self_employed</th>\n",
       "      <th>family_history</th>\n",
       "      <th>treatment</th>\n",
       "      <th>work_interfere</th>\n",
       "      <th>no_employees</th>\n",
       "      <th>...</th>\n",
       "      <th>leave</th>\n",
       "      <th>mental_health_consequence</th>\n",
       "      <th>phys_health_consequence</th>\n",
       "      <th>coworkers</th>\n",
       "      <th>supervisor</th>\n",
       "      <th>mental_health_interview</th>\n",
       "      <th>phys_health_interview</th>\n",
       "      <th>mental_vs_physical</th>\n",
       "      <th>obs_consequence</th>\n",
       "      <th>comments</th>\n",
       "    </tr>\n",
       "  </thead>\n",
       "  <tbody>\n",
       "    <tr>\n",
       "      <th>0</th>\n",
       "      <td>2014-08-27 11:29:31</td>\n",
       "      <td>37</td>\n",
       "      <td>Female</td>\n",
       "      <td>United States</td>\n",
       "      <td>IL</td>\n",
       "      <td>NaN</td>\n",
       "      <td>No</td>\n",
       "      <td>Yes</td>\n",
       "      <td>Often</td>\n",
       "      <td>6-25</td>\n",
       "      <td>...</td>\n",
       "      <td>Somewhat easy</td>\n",
       "      <td>No</td>\n",
       "      <td>No</td>\n",
       "      <td>Some of them</td>\n",
       "      <td>Yes</td>\n",
       "      <td>No</td>\n",
       "      <td>Maybe</td>\n",
       "      <td>Yes</td>\n",
       "      <td>No</td>\n",
       "      <td>NaN</td>\n",
       "    </tr>\n",
       "    <tr>\n",
       "      <th>1</th>\n",
       "      <td>2014-08-27 11:29:37</td>\n",
       "      <td>44</td>\n",
       "      <td>M</td>\n",
       "      <td>United States</td>\n",
       "      <td>IN</td>\n",
       "      <td>NaN</td>\n",
       "      <td>No</td>\n",
       "      <td>No</td>\n",
       "      <td>Rarely</td>\n",
       "      <td>More than 1000</td>\n",
       "      <td>...</td>\n",
       "      <td>Don't know</td>\n",
       "      <td>Maybe</td>\n",
       "      <td>No</td>\n",
       "      <td>No</td>\n",
       "      <td>No</td>\n",
       "      <td>No</td>\n",
       "      <td>No</td>\n",
       "      <td>Don't know</td>\n",
       "      <td>No</td>\n",
       "      <td>NaN</td>\n",
       "    </tr>\n",
       "    <tr>\n",
       "      <th>2</th>\n",
       "      <td>2014-08-27 11:29:44</td>\n",
       "      <td>32</td>\n",
       "      <td>Male</td>\n",
       "      <td>Canada</td>\n",
       "      <td>NaN</td>\n",
       "      <td>NaN</td>\n",
       "      <td>No</td>\n",
       "      <td>No</td>\n",
       "      <td>Rarely</td>\n",
       "      <td>6-25</td>\n",
       "      <td>...</td>\n",
       "      <td>Somewhat difficult</td>\n",
       "      <td>No</td>\n",
       "      <td>No</td>\n",
       "      <td>Yes</td>\n",
       "      <td>Yes</td>\n",
       "      <td>Yes</td>\n",
       "      <td>Yes</td>\n",
       "      <td>No</td>\n",
       "      <td>No</td>\n",
       "      <td>NaN</td>\n",
       "    </tr>\n",
       "    <tr>\n",
       "      <th>3</th>\n",
       "      <td>2014-08-27 11:29:46</td>\n",
       "      <td>31</td>\n",
       "      <td>Male</td>\n",
       "      <td>United Kingdom</td>\n",
       "      <td>NaN</td>\n",
       "      <td>NaN</td>\n",
       "      <td>Yes</td>\n",
       "      <td>Yes</td>\n",
       "      <td>Often</td>\n",
       "      <td>26-100</td>\n",
       "      <td>...</td>\n",
       "      <td>Somewhat difficult</td>\n",
       "      <td>Yes</td>\n",
       "      <td>Yes</td>\n",
       "      <td>Some of them</td>\n",
       "      <td>No</td>\n",
       "      <td>Maybe</td>\n",
       "      <td>Maybe</td>\n",
       "      <td>No</td>\n",
       "      <td>Yes</td>\n",
       "      <td>NaN</td>\n",
       "    </tr>\n",
       "    <tr>\n",
       "      <th>4</th>\n",
       "      <td>2014-08-27 11:30:22</td>\n",
       "      <td>31</td>\n",
       "      <td>Male</td>\n",
       "      <td>United States</td>\n",
       "      <td>TX</td>\n",
       "      <td>NaN</td>\n",
       "      <td>No</td>\n",
       "      <td>No</td>\n",
       "      <td>Never</td>\n",
       "      <td>100-500</td>\n",
       "      <td>...</td>\n",
       "      <td>Don't know</td>\n",
       "      <td>No</td>\n",
       "      <td>No</td>\n",
       "      <td>Some of them</td>\n",
       "      <td>Yes</td>\n",
       "      <td>Yes</td>\n",
       "      <td>Yes</td>\n",
       "      <td>Don't know</td>\n",
       "      <td>No</td>\n",
       "      <td>NaN</td>\n",
       "    </tr>\n",
       "  </tbody>\n",
       "</table>\n",
       "<p>5 rows × 27 columns</p>\n",
       "</div>"
      ],
      "text/plain": [
       "             Timestamp  Age  Gender         Country state self_employed  \\\n",
       "0  2014-08-27 11:29:31   37  Female   United States    IL           NaN   \n",
       "1  2014-08-27 11:29:37   44       M   United States    IN           NaN   \n",
       "2  2014-08-27 11:29:44   32    Male          Canada   NaN           NaN   \n",
       "3  2014-08-27 11:29:46   31    Male  United Kingdom   NaN           NaN   \n",
       "4  2014-08-27 11:30:22   31    Male   United States    TX           NaN   \n",
       "\n",
       "  family_history treatment work_interfere    no_employees  ...  \\\n",
       "0             No       Yes          Often            6-25  ...   \n",
       "1             No        No         Rarely  More than 1000  ...   \n",
       "2             No        No         Rarely            6-25  ...   \n",
       "3            Yes       Yes          Often          26-100  ...   \n",
       "4             No        No          Never         100-500  ...   \n",
       "\n",
       "                leave mental_health_consequence phys_health_consequence  \\\n",
       "0       Somewhat easy                        No                      No   \n",
       "1          Don't know                     Maybe                      No   \n",
       "2  Somewhat difficult                        No                      No   \n",
       "3  Somewhat difficult                       Yes                     Yes   \n",
       "4          Don't know                        No                      No   \n",
       "\n",
       "      coworkers supervisor mental_health_interview phys_health_interview  \\\n",
       "0  Some of them        Yes                      No                 Maybe   \n",
       "1            No         No                      No                    No   \n",
       "2           Yes        Yes                     Yes                   Yes   \n",
       "3  Some of them         No                   Maybe                 Maybe   \n",
       "4  Some of them        Yes                     Yes                   Yes   \n",
       "\n",
       "  mental_vs_physical obs_consequence comments  \n",
       "0                Yes              No      NaN  \n",
       "1         Don't know              No      NaN  \n",
       "2                 No              No      NaN  \n",
       "3                 No             Yes      NaN  \n",
       "4         Don't know              No      NaN  \n",
       "\n",
       "[5 rows x 27 columns]"
      ]
     },
     "execution_count": 3,
     "metadata": {},
     "output_type": "execute_result"
    }
   ],
   "source": [
    "#import data\n",
    "data = pd.read_csv(\"survey.csv\")\n",
    "data.head()"
   ]
  },
  {
   "cell_type": "code",
   "execution_count": 4,
   "metadata": {},
   "outputs": [
    {
     "name": "stdout",
     "output_type": "stream",
     "text": [
      "<class 'pandas.core.frame.DataFrame'>\n",
      "RangeIndex: 1259 entries, 0 to 1258\n",
      "Data columns (total 27 columns):\n",
      " #   Column                     Non-Null Count  Dtype \n",
      "---  ------                     --------------  ----- \n",
      " 0   Timestamp                  1259 non-null   object\n",
      " 1   Age                        1259 non-null   int64 \n",
      " 2   Gender                     1259 non-null   object\n",
      " 3   Country                    1259 non-null   object\n",
      " 4   state                      744 non-null    object\n",
      " 5   self_employed              1241 non-null   object\n",
      " 6   family_history             1259 non-null   object\n",
      " 7   treatment                  1259 non-null   object\n",
      " 8   work_interfere             995 non-null    object\n",
      " 9   no_employees               1259 non-null   object\n",
      " 10  remote_work                1259 non-null   object\n",
      " 11  tech_company               1259 non-null   object\n",
      " 12  benefits                   1259 non-null   object\n",
      " 13  care_options               1259 non-null   object\n",
      " 14  wellness_program           1259 non-null   object\n",
      " 15  seek_help                  1259 non-null   object\n",
      " 16  anonymity                  1259 non-null   object\n",
      " 17  leave                      1259 non-null   object\n",
      " 18  mental_health_consequence  1259 non-null   object\n",
      " 19  phys_health_consequence    1259 non-null   object\n",
      " 20  coworkers                  1259 non-null   object\n",
      " 21  supervisor                 1259 non-null   object\n",
      " 22  mental_health_interview    1259 non-null   object\n",
      " 23  phys_health_interview      1259 non-null   object\n",
      " 24  mental_vs_physical         1259 non-null   object\n",
      " 25  obs_consequence            1259 non-null   object\n",
      " 26  comments                   164 non-null    object\n",
      "dtypes: int64(1), object(26)\n",
      "memory usage: 265.7+ KB\n"
     ]
    }
   ],
   "source": [
    "data.info()"
   ]
  },
  {
   "cell_type": "code",
   "execution_count": 5,
   "metadata": {},
   "outputs": [
    {
     "data": {
      "text/plain": [
       "Male                                              615\n",
       "male                                              206\n",
       "Female                                            121\n",
       "M                                                 116\n",
       "female                                             62\n",
       "F                                                  38\n",
       "m                                                  34\n",
       "f                                                  15\n",
       "Make                                                4\n",
       "Male                                                3\n",
       "Woman                                               3\n",
       "Man                                                 2\n",
       "Female (trans)                                      2\n",
       "Cis Male                                            2\n",
       "Female                                              2\n",
       "woman                                               1\n",
       "Trans woman                                         1\n",
       "Cis Female                                          1\n",
       "maile                                               1\n",
       "Genderqueer                                         1\n",
       "Neuter                                              1\n",
       "Trans-female                                        1\n",
       "p                                                   1\n",
       "Guy (-ish) ^_^                                      1\n",
       "msle                                                1\n",
       "cis-female/femme                                    1\n",
       "queer                                               1\n",
       "something kinda male?                               1\n",
       "All                                                 1\n",
       "queer/she/they                                      1\n",
       "Female (cis)                                        1\n",
       "Male (CIS)                                          1\n",
       "Malr                                                1\n",
       "Agender                                             1\n",
       "non-binary                                          1\n",
       "Male-ish                                            1\n",
       "Mal                                                 1\n",
       "Nah                                                 1\n",
       "Cis Man                                             1\n",
       "fluid                                               1\n",
       "Enby                                                1\n",
       "A little about you                                  1\n",
       "Femake                                              1\n",
       "femail                                              1\n",
       "ostensibly male, unsure what that really means      1\n",
       "cis male                                            1\n",
       "Mail                                                1\n",
       "male leaning androgynous                            1\n",
       "Androgyne                                           1\n",
       "Name: Gender, dtype: int64"
      ]
     },
     "execution_count": 5,
     "metadata": {},
     "output_type": "execute_result"
    }
   ],
   "source": [
    "data.Gender.value_counts()"
   ]
  },
  {
   "cell_type": "code",
   "execution_count": 8,
   "metadata": {},
   "outputs": [],
   "source": [
    "#clean the gender data\n",
    "data.replace([\"male\",\"M\",\"m\",\"Make\",\"Cis Male\",\"Man\",\"maile\",\"Mal\",\"Malr\",\"Male (CIS)\",\"cis male\",\"Mail\",\"msle\",\"Cis Man\"],\"Male\",inplace=True)"
   ]
  },
  {
   "cell_type": "code",
   "execution_count": 9,
   "metadata": {},
   "outputs": [
    {
     "data": {
      "text/plain": [
       "Male                                              987\n",
       "Female                                            121\n",
       "female                                             62\n",
       "F                                                  38\n",
       "f                                                  15\n",
       "Male                                                3\n",
       "Woman                                               3\n",
       "Female (trans)                                      2\n",
       "Female                                              2\n",
       "p                                                   1\n",
       "woman                                               1\n",
       "Neuter                                              1\n",
       "Cis Female                                          1\n",
       "Guy (-ish) ^_^                                      1\n",
       "Genderqueer                                         1\n",
       "cis-female/femme                                    1\n",
       "Trans-female                                        1\n",
       "queer                                               1\n",
       "something kinda male?                               1\n",
       "Trans woman                                         1\n",
       "male leaning androgynous                            1\n",
       "queer/she/they                                      1\n",
       "Female (cis)                                        1\n",
       "All                                                 1\n",
       "femail                                              1\n",
       "ostensibly male, unsure what that really means      1\n",
       "Femake                                              1\n",
       "A little about you                                  1\n",
       "Enby                                                1\n",
       "fluid                                               1\n",
       "Nah                                                 1\n",
       "Male-ish                                            1\n",
       "non-binary                                          1\n",
       "Agender                                             1\n",
       "Androgyne                                           1\n",
       "Name: Gender, dtype: int64"
      ]
     },
     "execution_count": 9,
     "metadata": {},
     "output_type": "execute_result"
    }
   ],
   "source": [
    "data.Gender.value_counts()"
   ]
  },
  {
   "cell_type": "code",
   "execution_count": 10,
   "metadata": {},
   "outputs": [],
   "source": [
    "data.replace(\"Male \",\"Male\",inplace =True)"
   ]
  },
  {
   "cell_type": "code",
   "execution_count": 11,
   "metadata": {},
   "outputs": [
    {
     "data": {
      "text/plain": [
       "Male                                              990\n",
       "Female                                            121\n",
       "female                                             62\n",
       "F                                                  38\n",
       "f                                                  15\n",
       "Woman                                               3\n",
       "Female (trans)                                      2\n",
       "Female                                              2\n",
       "Neuter                                              1\n",
       "woman                                               1\n",
       "Guy (-ish) ^_^                                      1\n",
       "Trans woman                                         1\n",
       "cis-female/femme                                    1\n",
       "Cis Female                                          1\n",
       "queer                                               1\n",
       "Genderqueer                                         1\n",
       "Trans-female                                        1\n",
       "something kinda male?                               1\n",
       "p                                                   1\n",
       "Female (cis)                                        1\n",
       "queer/she/they                                      1\n",
       "Agender                                             1\n",
       "male leaning androgynous                            1\n",
       "All                                                 1\n",
       "femail                                              1\n",
       "ostensibly male, unsure what that really means      1\n",
       "Femake                                              1\n",
       "A little about you                                  1\n",
       "Enby                                                1\n",
       "fluid                                               1\n",
       "Nah                                                 1\n",
       "Male-ish                                            1\n",
       "non-binary                                          1\n",
       "Androgyne                                           1\n",
       "Name: Gender, dtype: int64"
      ]
     },
     "execution_count": 11,
     "metadata": {},
     "output_type": "execute_result"
    }
   ],
   "source": [
    "data.Gender.value_counts()"
   ]
  },
  {
   "cell_type": "code",
   "execution_count": 14,
   "metadata": {},
   "outputs": [],
   "source": [
    "data.replace([\"female\",\"F\",\"f\",\"Woman\",\"Female\",\"woman\",\"cis-female/femme\",\"Cis Female\",\"Femake\",\"femail\",\"Female (cis)\"],\"Female\",inplace=True)"
   ]
  },
  {
   "cell_type": "code",
   "execution_count": 15,
   "metadata": {},
   "outputs": [
    {
     "data": {
      "text/plain": [
       "Male                                              990\n",
       "Female                                            245\n",
       "Female (trans)                                      2\n",
       "Female                                              2\n",
       "queer/she/they                                      1\n",
       "something kinda male?                               1\n",
       "queer                                               1\n",
       "Guy (-ish) ^_^                                      1\n",
       "Neuter                                              1\n",
       "p                                                   1\n",
       "Trans woman                                         1\n",
       "Genderqueer                                         1\n",
       "Trans-female                                        1\n",
       "male leaning androgynous                            1\n",
       "Agender                                             1\n",
       "All                                                 1\n",
       "ostensibly male, unsure what that really means      1\n",
       "A little about you                                  1\n",
       "Enby                                                1\n",
       "fluid                                               1\n",
       "Nah                                                 1\n",
       "Male-ish                                            1\n",
       "non-binary                                          1\n",
       "Androgyne                                           1\n",
       "Name: Gender, dtype: int64"
      ]
     },
     "execution_count": 15,
     "metadata": {},
     "output_type": "execute_result"
    }
   ],
   "source": [
    "data.Gender.value_counts()"
   ]
  },
  {
   "cell_type": "code",
   "execution_count": 16,
   "metadata": {},
   "outputs": [],
   "source": [
    "data.replace(\"Female \",\"Female\",inplace=True)"
   ]
  },
  {
   "cell_type": "code",
   "execution_count": 17,
   "metadata": {},
   "outputs": [
    {
     "data": {
      "text/plain": [
       "Male                                              990\n",
       "Female                                            247\n",
       "Female (trans)                                      2\n",
       "queer/she/they                                      1\n",
       "something kinda male?                               1\n",
       "queer                                               1\n",
       "Guy (-ish) ^_^                                      1\n",
       "Neuter                                              1\n",
       "p                                                   1\n",
       "Trans woman                                         1\n",
       "Genderqueer                                         1\n",
       "Trans-female                                        1\n",
       "All                                                 1\n",
       "male leaning androgynous                            1\n",
       "Agender                                             1\n",
       "ostensibly male, unsure what that really means      1\n",
       "A little about you                                  1\n",
       "Enby                                                1\n",
       "fluid                                               1\n",
       "Nah                                                 1\n",
       "Male-ish                                            1\n",
       "non-binary                                          1\n",
       "Androgyne                                           1\n",
       "Name: Gender, dtype: int64"
      ]
     },
     "execution_count": 17,
     "metadata": {},
     "output_type": "execute_result"
    }
   ],
   "source": [
    "data.Gender.value_counts()"
   ]
  },
  {
   "cell_type": "code",
   "execution_count": 18,
   "metadata": {},
   "outputs": [],
   "source": [
    "data.replace([\"Female (trans)\",\"Male-ish\",\"Androgyne\",\"Trans-female\",\"something kinda male?\",\"Genderqueer\",\"Agender\",\"male leaning androgynous\",\"Trans woman\",\"queer\",\"All\",\"non-binary\",\"Neuter\",\"Enby\",\"fluid\",\"queer/she/they\",\"Guy (-ish) ^_^ \",\"ostensibly male, unsure what that really means\"],\"LGBTQ\",inplace=True)"
   ]
  },
  {
   "cell_type": "code",
   "execution_count": 19,
   "metadata": {},
   "outputs": [
    {
     "data": {
      "text/plain": [
       "Male                  990\n",
       "Female                247\n",
       "LGBTQ                  18\n",
       "Nah                     1\n",
       "A little about you      1\n",
       "p                       1\n",
       "Guy (-ish) ^_^          1\n",
       "Name: Gender, dtype: int64"
      ]
     },
     "execution_count": 19,
     "metadata": {},
     "output_type": "execute_result"
    }
   ],
   "source": [
    "data.Gender.value_counts()"
   ]
  },
  {
   "cell_type": "code",
   "execution_count": 20,
   "metadata": {},
   "outputs": [],
   "source": [
    "data.replace(\"Guy (-ish) ^_^\",\"LGBTQ\",inplace =True)"
   ]
  },
  {
   "cell_type": "code",
   "execution_count": 21,
   "metadata": {},
   "outputs": [
    {
     "data": {
      "text/plain": [
       "Male                  990\n",
       "Female                247\n",
       "LGBTQ                  19\n",
       "Nah                     1\n",
       "A little about you      1\n",
       "p                       1\n",
       "Name: Gender, dtype: int64"
      ]
     },
     "execution_count": 21,
     "metadata": {},
     "output_type": "execute_result"
    }
   ],
   "source": [
    "data.Gender.value_counts()"
   ]
  },
  {
   "cell_type": "code",
   "execution_count": 22,
   "metadata": {},
   "outputs": [],
   "source": [
    "data = data[~data[\"Gender\"].isin([\"A little about you\",\"p\",\"Nah\"])]"
   ]
  },
  {
   "cell_type": "code",
   "execution_count": 23,
   "metadata": {},
   "outputs": [
    {
     "data": {
      "text/plain": [
       "Male      990\n",
       "Female    247\n",
       "LGBTQ      19\n",
       "Name: Gender, dtype: int64"
      ]
     },
     "execution_count": 23,
     "metadata": {},
     "output_type": "execute_result"
    }
   ],
   "source": [
    "data.Gender.value_counts()"
   ]
  },
  {
   "cell_type": "code",
   "execution_count": 24,
   "metadata": {},
   "outputs": [
    {
     "data": {
      "text/plain": [
       "18"
      ]
     },
     "execution_count": 24,
     "metadata": {},
     "output_type": "execute_result"
    }
   ],
   "source": [
    "sum(data.self_employed.isna())"
   ]
  },
  {
   "cell_type": "code",
   "execution_count": 25,
   "metadata": {},
   "outputs": [],
   "source": [
    "data.dropna(subset=[\"self_employed\"],inplace=True)"
   ]
  },
  {
   "cell_type": "code",
   "execution_count": 26,
   "metadata": {},
   "outputs": [
    {
     "name": "stdout",
     "output_type": "stream",
     "text": [
      "<class 'pandas.core.frame.DataFrame'>\n",
      "Int64Index: 1238 entries, 18 to 1258\n",
      "Data columns (total 27 columns):\n",
      " #   Column                     Non-Null Count  Dtype \n",
      "---  ------                     --------------  ----- \n",
      " 0   Timestamp                  1238 non-null   object\n",
      " 1   Age                        1238 non-null   int64 \n",
      " 2   Gender                     1238 non-null   object\n",
      " 3   Country                    1238 non-null   object\n",
      " 4   state                      730 non-null    object\n",
      " 5   self_employed              1238 non-null   object\n",
      " 6   family_history             1238 non-null   object\n",
      " 7   treatment                  1238 non-null   object\n",
      " 8   work_interfere             974 non-null    object\n",
      " 9   no_employees               1238 non-null   object\n",
      " 10  remote_work                1238 non-null   object\n",
      " 11  tech_company               1238 non-null   object\n",
      " 12  benefits                   1238 non-null   object\n",
      " 13  care_options               1238 non-null   object\n",
      " 14  wellness_program           1238 non-null   object\n",
      " 15  seek_help                  1238 non-null   object\n",
      " 16  anonymity                  1238 non-null   object\n",
      " 17  leave                      1238 non-null   object\n",
      " 18  mental_health_consequence  1238 non-null   object\n",
      " 19  phys_health_consequence    1238 non-null   object\n",
      " 20  coworkers                  1238 non-null   object\n",
      " 21  supervisor                 1238 non-null   object\n",
      " 22  mental_health_interview    1238 non-null   object\n",
      " 23  phys_health_interview      1238 non-null   object\n",
      " 24  mental_vs_physical         1238 non-null   object\n",
      " 25  obs_consequence            1238 non-null   object\n",
      " 26  comments                   159 non-null    object\n",
      "dtypes: int64(1), object(26)\n",
      "memory usage: 270.8+ KB\n"
     ]
    }
   ],
   "source": [
    "data.info()"
   ]
  },
  {
   "cell_type": "code",
   "execution_count": 27,
   "metadata": {},
   "outputs": [],
   "source": [
    "data.drop(columns=[\"state\",\"work_interfere\"],inplace=True)"
   ]
  },
  {
   "cell_type": "code",
   "execution_count": 28,
   "metadata": {},
   "outputs": [
    {
     "name": "stdout",
     "output_type": "stream",
     "text": [
      "<class 'pandas.core.frame.DataFrame'>\n",
      "Int64Index: 1238 entries, 18 to 1258\n",
      "Data columns (total 25 columns):\n",
      " #   Column                     Non-Null Count  Dtype \n",
      "---  ------                     --------------  ----- \n",
      " 0   Timestamp                  1238 non-null   object\n",
      " 1   Age                        1238 non-null   int64 \n",
      " 2   Gender                     1238 non-null   object\n",
      " 3   Country                    1238 non-null   object\n",
      " 4   self_employed              1238 non-null   object\n",
      " 5   family_history             1238 non-null   object\n",
      " 6   treatment                  1238 non-null   object\n",
      " 7   no_employees               1238 non-null   object\n",
      " 8   remote_work                1238 non-null   object\n",
      " 9   tech_company               1238 non-null   object\n",
      " 10  benefits                   1238 non-null   object\n",
      " 11  care_options               1238 non-null   object\n",
      " 12  wellness_program           1238 non-null   object\n",
      " 13  seek_help                  1238 non-null   object\n",
      " 14  anonymity                  1238 non-null   object\n",
      " 15  leave                      1238 non-null   object\n",
      " 16  mental_health_consequence  1238 non-null   object\n",
      " 17  phys_health_consequence    1238 non-null   object\n",
      " 18  coworkers                  1238 non-null   object\n",
      " 19  supervisor                 1238 non-null   object\n",
      " 20  mental_health_interview    1238 non-null   object\n",
      " 21  phys_health_interview      1238 non-null   object\n",
      " 22  mental_vs_physical         1238 non-null   object\n",
      " 23  obs_consequence            1238 non-null   object\n",
      " 24  comments                   159 non-null    object\n",
      "dtypes: int64(1), object(24)\n",
      "memory usage: 251.5+ KB\n"
     ]
    }
   ],
   "source": [
    "data.info()"
   ]
  },
  {
   "cell_type": "code",
   "execution_count": 29,
   "metadata": {},
   "outputs": [],
   "source": [
    "data.drop(columns=[\"comments\"],inplace=True)"
   ]
  },
  {
   "cell_type": "code",
   "execution_count": 30,
   "metadata": {},
   "outputs": [
    {
     "name": "stdout",
     "output_type": "stream",
     "text": [
      "<class 'pandas.core.frame.DataFrame'>\n",
      "Int64Index: 1238 entries, 18 to 1258\n",
      "Data columns (total 24 columns):\n",
      " #   Column                     Non-Null Count  Dtype \n",
      "---  ------                     --------------  ----- \n",
      " 0   Timestamp                  1238 non-null   object\n",
      " 1   Age                        1238 non-null   int64 \n",
      " 2   Gender                     1238 non-null   object\n",
      " 3   Country                    1238 non-null   object\n",
      " 4   self_employed              1238 non-null   object\n",
      " 5   family_history             1238 non-null   object\n",
      " 6   treatment                  1238 non-null   object\n",
      " 7   no_employees               1238 non-null   object\n",
      " 8   remote_work                1238 non-null   object\n",
      " 9   tech_company               1238 non-null   object\n",
      " 10  benefits                   1238 non-null   object\n",
      " 11  care_options               1238 non-null   object\n",
      " 12  wellness_program           1238 non-null   object\n",
      " 13  seek_help                  1238 non-null   object\n",
      " 14  anonymity                  1238 non-null   object\n",
      " 15  leave                      1238 non-null   object\n",
      " 16  mental_health_consequence  1238 non-null   object\n",
      " 17  phys_health_consequence    1238 non-null   object\n",
      " 18  coworkers                  1238 non-null   object\n",
      " 19  supervisor                 1238 non-null   object\n",
      " 20  mental_health_interview    1238 non-null   object\n",
      " 21  phys_health_interview      1238 non-null   object\n",
      " 22  mental_vs_physical         1238 non-null   object\n",
      " 23  obs_consequence            1238 non-null   object\n",
      "dtypes: int64(1), object(23)\n",
      "memory usage: 241.8+ KB\n"
     ]
    }
   ],
   "source": [
    "data.info()"
   ]
  },
  {
   "cell_type": "code",
   "execution_count": 31,
   "metadata": {},
   "outputs": [
    {
     "data": {
      "text/plain": [
       " 5               1\n",
       " 11              1\n",
       " 18              7\n",
       " 19              9\n",
       " 20              6\n",
       " 21             16\n",
       " 22             21\n",
       " 23             49\n",
       " 24             46\n",
       " 25             61\n",
       " 26             75\n",
       " 27             70\n",
       " 28             68\n",
       " 29             82\n",
       " 30             63\n",
       " 31             64\n",
       " 32             80\n",
       " 33             69\n",
       " 34             65\n",
       " 35             54\n",
       " 36             36\n",
       " 37             42\n",
       " 38             39\n",
       " 39             32\n",
       " 40             33\n",
       " 41             21\n",
       " 42             18\n",
       " 43             28\n",
       " 44             10\n",
       " 45             12\n",
       " 46             12\n",
       " 47              2\n",
       " 48              6\n",
       " 49              4\n",
       " 50              6\n",
       " 51              5\n",
       " 53              1\n",
       " 54              3\n",
       " 55              3\n",
       " 56              4\n",
       " 57              3\n",
       " 58              1\n",
       " 60              2\n",
       " 61              1\n",
       " 62              1\n",
       " 65              1\n",
       " 72              1\n",
       " 329             1\n",
       "-29              1\n",
       "-1726            1\n",
       " 99999999999     1\n",
       "Name: Age, dtype: int64"
      ]
     },
     "execution_count": 31,
     "metadata": {},
     "output_type": "execute_result"
    }
   ],
   "source": [
    "data.Age.value_counts(sort=False)"
   ]
  },
  {
   "cell_type": "code",
   "execution_count": 32,
   "metadata": {},
   "outputs": [],
   "source": [
    "data = data[~data[\"Age\"].isin([ 99999999999,-1726,-29,5,11,329])]"
   ]
  },
  {
   "cell_type": "code",
   "execution_count": 33,
   "metadata": {},
   "outputs": [],
   "source": [
    "# data = data[~data[\"Age\"].isin([5,11,329])]"
   ]
  },
  {
   "cell_type": "code",
   "execution_count": 34,
   "metadata": {},
   "outputs": [],
   "source": [
    "Age_bin = pd.cut(x=data['Age'], bins=[17,30,49,50],labels=[\"18-29\",\"30-49\",\"50 and above\"])"
   ]
  },
  {
   "cell_type": "code",
   "execution_count": 35,
   "metadata": {},
   "outputs": [],
   "source": [
    "# data.drop(columns=\"Age_bins\",inplace=True)\n",
    "data.insert(2,\"Age_bin\",Age_bin)"
   ]
  },
  {
   "cell_type": "code",
   "execution_count": 36,
   "metadata": {},
   "outputs": [
    {
     "name": "stdout",
     "output_type": "stream",
     "text": [
      "<class 'pandas.core.frame.DataFrame'>\n",
      "Int64Index: 1232 entries, 18 to 1258\n",
      "Data columns (total 25 columns):\n",
      " #   Column                     Non-Null Count  Dtype   \n",
      "---  ------                     --------------  -----   \n",
      " 0   Timestamp                  1232 non-null   object  \n",
      " 1   Age                        1232 non-null   int64   \n",
      " 2   Age_bin                    1206 non-null   category\n",
      " 3   Gender                     1232 non-null   object  \n",
      " 4   Country                    1232 non-null   object  \n",
      " 5   self_employed              1232 non-null   object  \n",
      " 6   family_history             1232 non-null   object  \n",
      " 7   treatment                  1232 non-null   object  \n",
      " 8   no_employees               1232 non-null   object  \n",
      " 9   remote_work                1232 non-null   object  \n",
      " 10  tech_company               1232 non-null   object  \n",
      " 11  benefits                   1232 non-null   object  \n",
      " 12  care_options               1232 non-null   object  \n",
      " 13  wellness_program           1232 non-null   object  \n",
      " 14  seek_help                  1232 non-null   object  \n",
      " 15  anonymity                  1232 non-null   object  \n",
      " 16  leave                      1232 non-null   object  \n",
      " 17  mental_health_consequence  1232 non-null   object  \n",
      " 18  phys_health_consequence    1232 non-null   object  \n",
      " 19  coworkers                  1232 non-null   object  \n",
      " 20  supervisor                 1232 non-null   object  \n",
      " 21  mental_health_interview    1232 non-null   object  \n",
      " 22  phys_health_interview      1232 non-null   object  \n",
      " 23  mental_vs_physical         1232 non-null   object  \n",
      " 24  obs_consequence            1232 non-null   object  \n",
      "dtypes: category(1), int64(1), object(23)\n",
      "memory usage: 241.9+ KB\n"
     ]
    }
   ],
   "source": [
    "data.info()"
   ]
  },
  {
   "cell_type": "code",
   "execution_count": 37,
   "metadata": {},
   "outputs": [],
   "source": [
    "# data.head(40)"
   ]
  },
  {
   "cell_type": "code",
   "execution_count": 38,
   "metadata": {},
   "outputs": [],
   "source": [
    "#save file for analysis\n",
    "data.to_csv(\"clean_survey.csv\",index=False)"
   ]
  },
  {
   "cell_type": "code",
   "execution_count": null,
   "metadata": {},
   "outputs": [],
   "source": []
  }
 ],
 "metadata": {
  "kernelspec": {
   "display_name": "Python 3",
   "language": "python",
   "name": "python3"
  },
  "language_info": {
   "codemirror_mode": {
    "name": "ipython",
    "version": 3
   },
   "file_extension": ".py",
   "mimetype": "text/x-python",
   "name": "python",
   "nbconvert_exporter": "python",
   "pygments_lexer": "ipython3",
   "version": "3.8.3"
  }
 },
 "nbformat": 4,
 "nbformat_minor": 4
}
